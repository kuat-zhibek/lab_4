{
 "cells": [
  {
   "cell_type": "markdown",
   "id": "29b97c36-f99b-4a93-989b-69c75d390464",
   "metadata": {},
   "source": [
    "task 1"
   ]
  },
  {
   "cell_type": "code",
   "execution_count": 3,
   "id": "c23408cb-bfbe-4664-a5cd-83221fc247d4",
   "metadata": {},
   "outputs": [
    {
     "name": "stdin",
     "output_type": "stream",
     "text": [
      "Input degree:  15\n"
     ]
    },
    {
     "name": "stdout",
     "output_type": "stream",
     "text": [
      "Output radian:  0.2617993877991494\n"
     ]
    }
   ],
   "source": [
    "import math\n",
    "deg=float(input(\"Input degree: \"))\n",
    "print(\"Output radian: \", deg*math.pi/180)"
   ]
  },
  {
   "cell_type": "markdown",
   "id": "d78e4635-ac17-4cee-b088-64999b67d905",
   "metadata": {},
   "source": [
    "task 2"
   ]
  },
  {
   "cell_type": "code",
   "execution_count": 7,
   "id": "1efda531-fe30-430f-a736-0cd437c7f2a5",
   "metadata": {},
   "outputs": [
    {
     "name": "stdin",
     "output_type": "stream",
     "text": [
      "Height:  5\n",
      "Base, first value:  5\n",
      "Base, second value:  6\n"
     ]
    },
    {
     "name": "stdout",
     "output_type": "stream",
     "text": [
      "Expected Output:  27.5\n"
     ]
    }
   ],
   "source": [
    "import math\n",
    "height=float(input(\"Height: \"))\n",
    "a=float(input(\"Base, first value: \"))\n",
    "b=float(input(\"Base, second value: \"))\n",
    "print(\"Expected Output: \",(a+b)/2*height)"
   ]
  },
  {
   "cell_type": "markdown",
   "id": "4f58f4e2-b86e-49c5-8070-bac0e650f149",
   "metadata": {},
   "source": [
    "task 3"
   ]
  },
  {
   "cell_type": "code",
   "execution_count": 11,
   "id": "9d419e94-11f0-460f-8626-66e42ab513bd",
   "metadata": {},
   "outputs": [
    {
     "name": "stdin",
     "output_type": "stream",
     "text": [
      "Input number of sides:  4\n",
      "Input the length of a side:  25\n"
     ]
    },
    {
     "name": "stdout",
     "output_type": "stream",
     "text": [
      "The area of the polygon is:  624.9999999999999\n"
     ]
    }
   ],
   "source": [
    "import math\n",
    "n=float(input(\"Input number of sides: \"))\n",
    "a=float(input(\"Input the length of a side: \"))\n",
    "degree=(math.pi*(n-2))/(2*n)\n",
    "area=math.tan(degree)*(a*a/4)\n",
    "print(\"The area of the polygon is: \",area*n)"
   ]
  },
  {
   "cell_type": "markdown",
   "id": "e57f8821-6b8d-4bc8-8579-deb37f05b2af",
   "metadata": {},
   "source": [
    "task 4"
   ]
  },
  {
   "cell_type": "code",
   "execution_count": 13,
   "id": "a0d46852-0013-4110-a213-4eeb522b3121",
   "metadata": {},
   "outputs": [
    {
     "name": "stdin",
     "output_type": "stream",
     "text": [
      "Length of base:  5\n",
      "Height of parallelogram:  6\n"
     ]
    },
    {
     "name": "stdout",
     "output_type": "stream",
     "text": [
      "Expected Output:  30.0\n"
     ]
    }
   ],
   "source": [
    "import math\n",
    "a=float(input(\"Length of base: \"))\n",
    "h=float(input(\"Height of parallelogram: \"))\n",
    "print(\"Expected Output: \",a*h)"
   ]
  }
 ],
 "metadata": {
  "kernelspec": {
   "display_name": "Python [conda env:base] *",
   "language": "python",
   "name": "conda-base-py"
  },
  "language_info": {
   "codemirror_mode": {
    "name": "ipython",
    "version": 3
   },
   "file_extension": ".py",
   "mimetype": "text/x-python",
   "name": "python",
   "nbconvert_exporter": "python",
   "pygments_lexer": "ipython3",
   "version": "3.12.7"
  }
 },
 "nbformat": 4,
 "nbformat_minor": 5
}
