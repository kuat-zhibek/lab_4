{
 "cells": [
  {
   "cell_type": "code",
   "execution_count": null,
   "id": "ba611584-f2bc-41ff-8d9e-7f8ab4e6714c",
   "metadata": {},
   "outputs": [],
   "source": [
    "import json\n",
    "with open(\"\", \"r\") as f:\n",
    "    data = json.load(f)\n",
    "print(\"Inherit status\")\n",
    "print(\"=\"*84)\n",
    "DN = \"DN\"\n",
    "Description = \"Description\"\n",
    "Speed = \"Speed\"\n",
    "MTU = \"MTU\"\n",
    "print(f\"{DN:50} {Description:20} {Speed:7} {MTU:7}\")\n",
    "print(\"-\"*84)\n",
    "for item in data[\"imdata\"]:\n",
    "    attr = item[\"l1PhysIf\"][\"attributes\"]\n",
    "    dn = attr.get(\"dn\")\n",
    "    descr = attr.get(\"descr\")\n",
    "    speed = attr.get(\"speed\")\n",
    "    mtu = attr.get(\"mtu\")\n",
    "    print(f\"{dn:50} {descr:20} {speed:7} {mtu:7}\")"
   ]
  }
 ],
 "metadata": {
  "kernelspec": {
   "display_name": "Python [conda env:base] *",
   "language": "python",
   "name": "conda-base-py"
  },
  "language_info": {
   "codemirror_mode": {
    "name": "ipython",
    "version": 3
   },
   "file_extension": ".py",
   "mimetype": "text/x-python",
   "name": "python",
   "nbconvert_exporter": "python",
   "pygments_lexer": "ipython3",
   "version": "3.12.7"
  }
 },
 "nbformat": 4,
 "nbformat_minor": 5
}
