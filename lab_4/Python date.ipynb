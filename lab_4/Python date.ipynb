{
 "cells": [
  {
   "cell_type": "markdown",
   "id": "45e4e6d0-3bca-43d2-aaf1-3c780fb57c09",
   "metadata": {},
   "source": [
    "task 1"
   ]
  },
  {
   "cell_type": "code",
   "execution_count": 7,
   "id": "b6823f53-7955-42d6-9655-93f75fe19629",
   "metadata": {},
   "outputs": [
    {
     "name": "stdout",
     "output_type": "stream",
     "text": [
      "Five days ago was:  15 February 2025\n"
     ]
    }
   ],
   "source": [
    "import datetime\n",
    "today=datetime.date.today()\n",
    "five_days_ago=today-datetime.timedelta(5)\n",
    "print(\"Five days ago was: \", five_days_ago.strftime(\"%d %B %Y\"))"
   ]
  },
  {
   "cell_type": "markdown",
   "id": "bb101efa-f253-42bc-96fc-726933ea9bee",
   "metadata": {},
   "source": [
    "task 2"
   ]
  },
  {
   "cell_type": "code",
   "execution_count": 17,
   "id": "d7315fc9-2130-4961-aaf5-a37d42f3567c",
   "metadata": {},
   "outputs": [
    {
     "name": "stdout",
     "output_type": "stream",
     "text": [
      "Yesterday was  19 February 2025\n",
      "Today was  20 February 2025\n",
      "Tomorrow was  21 February 2025\n"
     ]
    }
   ],
   "source": [
    "import datetime\n",
    "today=datetime.date.today()\n",
    "yesterday=today-datetime.timedelta(1)\n",
    "tomorrow=today+datetime.timedelta(1)\n",
    "print(\"Yesterday was \", yesterday.strftime(\"%d %B %Y\"))\n",
    "print(\"Today was \", today.strftime(\"%d %B %Y\"))\n",
    "print(\"Tomorrow was \", tomorrow.strftime(\"%d %B %Y\"))"
   ]
  },
  {
   "cell_type": "markdown",
   "id": "bf11a390-51de-44bb-8f6b-f77b1f46ed47",
   "metadata": {},
   "source": [
    "task 3"
   ]
  },
  {
   "cell_type": "code",
   "execution_count": 23,
   "id": "dad98dfb-cfd9-4bd9-a53b-01ac86ffb4de",
   "metadata": {},
   "outputs": [
    {
     "name": "stdout",
     "output_type": "stream",
     "text": [
      "920\n"
     ]
    }
   ],
   "source": [
    "import datetime\n",
    "now=datetime.datetime.now()\n",
    "print(now.microsecond//1000)"
   ]
  },
  {
   "cell_type": "markdown",
   "id": "3763ffe9-4a2d-4c2a-a031-f6e0a0f2a79c",
   "metadata": {},
   "source": [
    "task 4"
   ]
  },
  {
   "cell_type": "code",
   "execution_count": 27,
   "id": "caa253e1-d3a5-49ca-93c2-7fd5909fc370",
   "metadata": {},
   "outputs": [
    {
     "name": "stdin",
     "output_type": "stream",
     "text": [
      "Enter the 1st date (YYYY-MM-DD HH:MM:SS):  2025-02-20 02:28:00\n",
      "Enter the 2nd date (YYYY-MM-DD HH:MM:SS):  2025-01-01 00:00:00\n"
     ]
    },
    {
     "name": "stdout",
     "output_type": "stream",
     "text": [
      "4328880.0\n"
     ]
    }
   ],
   "source": [
    "from datetime import datetime\n",
    "time1 = input(\"Enter the 1st date (YYYY-MM-DD HH:MM:SS): \")\n",
    "time2 = input(\"Enter the 2nd date (YYYY-MM-DD HH:MM:SS): \")\n",
    "date_format = \"%Y-%m-%d %H:%M:%S\"\n",
    "date1 = datetime.strptime(time1, date_format)\n",
    "date2 = datetime.strptime(time2, date_format)\n",
    "diff = abs(date1 - date2)\n",
    "seconds_diff = diff.total_seconds()\n",
    "print(seconds_diff)"
   ]
  }
 ],
 "metadata": {
  "kernelspec": {
   "display_name": "Python [conda env:base] *",
   "language": "python",
   "name": "conda-base-py"
  },
  "language_info": {
   "codemirror_mode": {
    "name": "ipython",
    "version": 3
   },
   "file_extension": ".py",
   "mimetype": "text/x-python",
   "name": "python",
   "nbconvert_exporter": "python",
   "pygments_lexer": "ipython3",
   "version": "3.12.7"
  }
 },
 "nbformat": 4,
 "nbformat_minor": 5
}
