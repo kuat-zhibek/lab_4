{
 "cells": [
  {
   "cell_type": "markdown",
   "id": "dafd05d6-29f7-427e-810f-3194722c21a0",
   "metadata": {},
   "source": [
    "task 1"
   ]
  },
  {
   "cell_type": "code",
   "execution_count": 3,
   "id": "5ad4879e-0a69-43ed-9f0b-f531012de1e5",
   "metadata": {},
   "outputs": [
    {
     "name": "stdin",
     "output_type": "stream",
     "text": [
      "Number n:  5\n"
     ]
    },
    {
     "name": "stdout",
     "output_type": "stream",
     "text": [
      "1\n",
      "2\n",
      "3\n",
      "4\n",
      "5\n"
     ]
    }
   ],
   "source": [
    "def gen(stop):\n",
    "    start = 1\n",
    "    while (start <= stop):\n",
    "        yield start\n",
    "        start+=1\n",
    "n = int(input(\"Number n: \"))\n",
    "nums = gen(n)\n",
    "for num in nums:\n",
    "    print(num)"
   ]
  },
  {
   "cell_type": "markdown",
   "id": "fa6afec2-d9fa-44cd-8e0f-0493d5829fed",
   "metadata": {},
   "source": [
    "task 2"
   ]
  },
  {
   "cell_type": "code",
   "execution_count": 5,
   "id": "6ae85d15-6373-43df-8308-656a2cd3c9d5",
   "metadata": {},
   "outputs": [
    {
     "name": "stdin",
     "output_type": "stream",
     "text": [
      "Number N:  9\n"
     ]
    },
    {
     "name": "stdout",
     "output_type": "stream",
     "text": [
      "2, 4, 6, 8, "
     ]
    }
   ],
   "source": [
    "def gen(stop):\n",
    "    start = 1\n",
    "    while (start <= stop):\n",
    "        yield start\n",
    "        start+=1\n",
    "n = int(input(\"Number N: \"))\n",
    "nums = gen(n)\n",
    "for num in nums:\n",
    "    if num%2==0:\n",
    "        print(num, end=\", \")"
   ]
  },
  {
   "cell_type": "markdown",
   "id": "c509acd8-52f2-4a30-8e91-7d72d8ca30a4",
   "metadata": {},
   "source": [
    "task 3"
   ]
  },
  {
   "cell_type": "code",
   "execution_count": 9,
   "id": "cea8b4d5-569c-4f57-beac-9f276039a7c6",
   "metadata": {},
   "outputs": [
    {
     "name": "stdin",
     "output_type": "stream",
     "text": [
      "Number N:  15\n"
     ]
    },
    {
     "name": "stdout",
     "output_type": "stream",
     "text": [
      "0\n",
      "3\n",
      "4\n",
      "6\n",
      "8\n",
      "9\n",
      "12\n",
      "15\n"
     ]
    }
   ],
   "source": [
    "def gen(stop):\n",
    "    start = 0\n",
    "    while( start <= stop ):\n",
    "        yield start\n",
    "        start+=1\n",
    "n = int(input(\"Number N: \"))\n",
    "nums = gen(n)\n",
    "for num in nums:\n",
    "    if num%3==0 or num%4==0:\n",
    "        print(num)"
   ]
  },
  {
   "cell_type": "markdown",
   "id": "6a1a7232-1b81-46a2-aa24-1c3217a3575e",
   "metadata": {},
   "source": [
    "task 4"
   ]
  },
  {
   "cell_type": "code",
   "execution_count": 11,
   "id": "f4328402-14b5-495a-bd60-b1005087249d",
   "metadata": {},
   "outputs": [
    {
     "name": "stdin",
     "output_type": "stream",
     "text": [
      "enter a:  2\n",
      "enter b:  6\n"
     ]
    },
    {
     "name": "stdout",
     "output_type": "stream",
     "text": [
      "4\n",
      "9\n",
      "16\n",
      "25\n",
      "36\n"
     ]
    }
   ],
   "source": [
    "def squares(a, b):\n",
    "    while a<=b:\n",
    "        yield a**2\n",
    "        a+=1\n",
    "a=int(input(\"enter a: \"))\n",
    "b=int(input(\"enter b: \"))\n",
    "nums=squares(a, b)\n",
    "for i in nums:\n",
    "    print(i)"
   ]
  },
  {
   "cell_type": "markdown",
   "id": "1e170fba-9297-4a4d-beb8-25e40ab1e0bf",
   "metadata": {},
   "source": [
    "task 5"
   ]
  },
  {
   "cell_type": "code",
   "execution_count": 15,
   "id": "7bc3f875-578e-4913-957f-ddfe324d8988",
   "metadata": {},
   "outputs": [
    {
     "name": "stdin",
     "output_type": "stream",
     "text": [
      "enter n number:  5\n"
     ]
    },
    {
     "name": "stdout",
     "output_type": "stream",
     "text": [
      "5\n",
      "4\n",
      "3\n",
      "2\n",
      "1\n",
      "0\n"
     ]
    }
   ],
   "source": [
    "def gen(n):\n",
    "    while(n>=0):\n",
    "        yield n\n",
    "        n-=1\n",
    "n=int(input(\"enter n number: \"))\n",
    "nums=gen(n)\n",
    "for i in nums:\n",
    "    print(i)"
   ]
  }
 ],
 "metadata": {
  "kernelspec": {
   "display_name": "Python [conda env:base] *",
   "language": "python",
   "name": "conda-base-py"
  },
  "language_info": {
   "codemirror_mode": {
    "name": "ipython",
    "version": 3
   },
   "file_extension": ".py",
   "mimetype": "text/x-python",
   "name": "python",
   "nbconvert_exporter": "python",
   "pygments_lexer": "ipython3",
   "version": "3.12.7"
  }
 },
 "nbformat": 4,
 "nbformat_minor": 5
}
